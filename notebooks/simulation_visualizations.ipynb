{
 "cells": [
  {
   "cell_type": "code",
   "execution_count": 7,
   "id": "0664e7b8",
   "metadata": {},
   "outputs": [],
   "source": [
    "import matplotlib.pyplot as plt"
   ]
  },
  {
   "cell_type": "code",
   "execution_count": 2,
   "id": "e3d28fb1",
   "metadata": {},
   "outputs": [],
   "source": [
    "def build_matrix(G, ncells, nmutations):\n",
    "    mat = np.zeros((ncells, nmutations))\n",
    "    node_map = defaultdict()\n",
    "    root = None\n",
    "    for n in G.nodes():\n",
    "        if G.in_degree(n) == 0:\n",
    "            node_map[n] = np.array([0,0,0,0,0])\n",
    "        elif G.out_degree(n) > 0:\n",
    "            node_map[n] = np.array([0,0,0,0,0])\n",
    "            for pred in list(nx.ancestors(G, n)):\n",
    "                if int(pred) <= nmutations:\n",
    "                    node_map[n][int(pred) - 1] = 1\n",
    "            node_map[n][int(n) - 1] = 1\n",
    "        \n",
    "\n",
    "    for n in G.nodes():\n",
    "        # Get all outgoing edges from the node\n",
    "        out_edges = G.out_edges(n)\n",
    "        # Extract the target nodes from the edges\n",
    "        outdegree_nodes = [target for _, target in out_edges if G.out_degree(target) == 0]\n",
    "        for leaf in outdegree_nodes:\n",
    "            mat[int(leaf[1:])] = node_map[n]\n",
    "            \n",
    "    return mat"
   ]
  },
  {
   "cell_type": "markdown",
   "id": "750c722f",
   "metadata": {},
   "source": [
    "# Plot Normalized Matrix Error"
   ]
  },
  {
   "cell_type": "markdown",
   "id": "46df1551",
   "metadata": {},
   "source": [
    "### Parameters"
   ]
  },
  {
   "cell_type": "code",
   "execution_count": 5,
   "id": "a1de5e6b",
   "metadata": {},
   "outputs": [],
   "source": [
    "# Variable Parameters \n",
    "ncells_per_sample = 2000\n",
    "timepoints = [3, 5, 7]\n",
    "error_rates = [0.01, 0.05, 0.075, 0.10, 0.125, 0.15]\n",
    "num_replicates = 20\n",
    "\n",
    "# Fixed Parameters\n",
    "nmutations = 5"
   ]
  },
  {
   "cell_type": "markdown",
   "id": "e8be0cda",
   "metadata": {},
   "source": [
    "## Imputation Methods Comparison"
   ]
  },
  {
   "cell_type": "code",
   "execution_count": 8,
   "id": "2330bb8f",
   "metadata": {},
   "outputs": [
    {
     "ename": "NameError",
     "evalue": "name 'cmat' is not defined",
     "output_type": "error",
     "traceback": [
      "\u001b[0;31m---------------------------------------------------------------------------\u001b[0m",
      "\u001b[0;31mNameError\u001b[0m                                 Traceback (most recent call last)",
      "\u001b[0;32m<ipython-input-8-b2c3080b9217>\u001b[0m in \u001b[0;36m<module>\u001b[0;34m\u001b[0m\n\u001b[1;32m     10\u001b[0m         \u001b[0;32mfor\u001b[0m \u001b[0msd\u001b[0m \u001b[0;32min\u001b[0m \u001b[0mrange\u001b[0m\u001b[0;34m(\u001b[0m\u001b[0mnum_replicates\u001b[0m \u001b[0;34m+\u001b[0m \u001b[0;36m1\u001b[0m\u001b[0;34m)\u001b[0m\u001b[0;34m:\u001b[0m\u001b[0;34m\u001b[0m\u001b[0;34m\u001b[0m\u001b[0m\n\u001b[1;32m     11\u001b[0m             \u001b[0;32mif\u001b[0m \u001b[0msd\u001b[0m \u001b[0;34m<\u001b[0m \u001b[0mnum_replicates\u001b[0m\u001b[0;34m:\u001b[0m\u001b[0;34m\u001b[0m\u001b[0;34m\u001b[0m\u001b[0m\n\u001b[0;32m---> 12\u001b[0;31m                 \u001b[0mog_character_matrix\u001b[0m \u001b[0;34m=\u001b[0m \u001b[0mcmat\u001b[0m\u001b[0;34m[\u001b[0m\u001b[0midx\u001b[0m\u001b[0;34m]\u001b[0m\u001b[0;34m\u001b[0m\u001b[0;34m\u001b[0m\u001b[0m\n\u001b[0m\u001b[1;32m     13\u001b[0m                 \u001b[0mML_LPR_df\u001b[0m \u001b[0;34m=\u001b[0m \u001b[0mpd\u001b[0m\u001b[0;34m.\u001b[0m\u001b[0mread_csv\u001b[0m\u001b[0;34m(\u001b[0m\u001b[0;34mf'/n/fs/ragr-data/users/aj7381/adversarial_cases/ML-LPR_{t}_{prop}_{sd}_B.csv'\u001b[0m\u001b[0;34m)\u001b[0m\u001b[0;34m\u001b[0m\u001b[0;34m\u001b[0m\u001b[0m\n\u001b[1;32m     14\u001b[0m                 \u001b[0mML_PP_df\u001b[0m \u001b[0;34m=\u001b[0m \u001b[0mpd\u001b[0m\u001b[0;34m.\u001b[0m\u001b[0mread_csv\u001b[0m\u001b[0;34m(\u001b[0m\u001b[0;34mf'/n/fs/ragr-data/users/aj7381/adversarial_cases/ML-PP_{t}_{prop}_{sd}_B.csv'\u001b[0m\u001b[0;34m)\u001b[0m\u001b[0;34m\u001b[0m\u001b[0;34m\u001b[0m\u001b[0m\n",
      "\u001b[0;31mNameError\u001b[0m: name 'cmat' is not defined"
     ]
    },
    {
     "data": {
      "text/plain": [
       "<Figure size 432x288 with 0 Axes>"
      ]
     },
     "metadata": {},
     "output_type": "display_data"
    },
    {
     "data": {
      "image/png": "[encoded data removed]",
      "text/plain": [
       "<Figure size 1080x360 with 18 Axes>"
      ]
     },
     "metadata": {
      "needs_background": "light"
     },
     "output_type": "display_data"
    }
   ],
   "source": [
    "plt.figure()\n",
    "fig, axs = plt.subplots(len(timepoints), len(error_rates), figsize=(15, 5))\n",
    "idx = 0\n",
    "for i, t in enumerate(timepoints):\n",
    "    for j, prop in enumerate(error_rates):\n",
    "        PP_diffs = []\n",
    "        LPR_diffs = []\n",
    "        SPhyR_diffs = []\n",
    "        SCITE_diffs = []\n",
    "        for sd in range(num_replicates + 1):\n",
    "            if sd < num_replicates:\n",
    "                og_character_matrix = cmat[idx]\n",
    "                ML_LPR_df = pd.read_csv(f'/n/fs/ragr-data/users/aj7381/adversarial_cases/ML-LPR_{t}_{prop}_{sd}_B.csv')\n",
    "                ML_PP_df = pd.read_csv(f'/n/fs/ragr-data/users/aj7381/adversarial_cases/ML-PP_{t}_{prop}_{sd}_B.csv')\n",
    "                sphyr_df = pd.read_csv(f'/n/fs/ragr-data/users/aj7381/adversarial_cases/result_{t}_{prop}_{sd}_sphyr.txt', sep=' ',skiprows=2, header=None)\n",
    "\n",
    "\n",
    "                gv = pgv.AGraph(f'/n/fs/ragr-data/users/aj7381/adversarial_cases/result_{t}_{prop}_{sd}_ml0.gv', strict=False, directed=True)\n",
    "                G = nx.DiGraph(gv)\n",
    "                SCITE_character_matrix = build_matrix(G, t * ncells_per_sample, nmutations)\n",
    "                \n",
    "                SPhyR_character_matrix = sphyr_df.values\n",
    "                ML_LPR_character_matrix = ML_LPR_df.values[:, 1:]\n",
    "                ML_PP_character_matrix = ML_PP_df.values[:, 1:]\n",
    "                PP_diffs.append(np.sum(np.abs(og_character_matrix - ML_PP_character_matrix))/(ncells_per_sample * nmutations * t))\n",
    "                LPR_diffs.append(np.sum(np.abs(og_character_matrix - ML_LPR_character_matrix))/(ncells_per_sample * nmutations * t))\n",
    "                SPhyR_diffs.append(np.sum(np.abs(og_character_matrix - SPhyR_character_matrix))/(ncells_per_sample * nmutations * t))\n",
    "                SCITE_diffs.append(np.sum(np.abs(og_character_matrix - SCITE_character_matrix))/(ncells_per_sample * nmutations * t))\n",
    "\n",
    "            idx += 1\n",
    "\n",
    "        data = pd.DataFrame({'Type': num_replicates*['ConDoR'] + num_replicates*['Phyllochron'] + num_replicates*['SPhyR'] + num_replicates*['SCITE'], 'Normalized Matrix Error':PP_diffs + LPR_diffs + SPhyR_diffs + SCITE_diffs})\n",
    "        axs[i,j].set_ylim(0, 0.20)\n",
    "        sns.boxplot(x='Type', y='Normalized Matrix Error', data=data, ax = axs[i,j])\n",
    "        axs[i,j].set_title(f't = {t}, error rate = {prop}')\n",
    "plt.show()"
   ]
  },
  {
   "cell_type": "code",
   "execution_count": null,
   "id": "5ccf3207",
   "metadata": {},
   "outputs": [],
   "source": []
  }
 ],
 "metadata": {
  "kernelspec": {
   "display_name": "Python 3",
   "language": "python",
   "name": "python3"
  },
  "language_info": {
   "codemirror_mode": {
    "name": "ipython",
    "version": 3
   },
   "file_extension": ".py",
   "mimetype": "text/x-python",
   "name": "python",
   "nbconvert_exporter": "python",
   "pygments_lexer": "ipython3",
   "version": "3.7.12"
  }
 },
 "nbformat": 4,
 "nbformat_minor": 5
}
